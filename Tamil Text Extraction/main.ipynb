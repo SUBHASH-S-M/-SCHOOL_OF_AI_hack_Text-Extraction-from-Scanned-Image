{
 "cells": [
  {
   "cell_type": "code",
   "execution_count": 1,
   "metadata": {},
   "outputs": [],
   "source": [
    "import pytesseract\n",
    "pytesseract.pytesseract.tesseract_cmd=r\"C:\\\\Program Files\\\\Tesseract-OCR\\\\tesseract.exe\"\n",
    "import cv2\n",
    "from PIL import Image\n",
    "import tempfile\n",
    "import imutils\n",
    "import numpy as np\n"
   ]
  },
  {
   "cell_type": "code",
   "execution_count": 2,
   "metadata": {},
   "outputs": [],
   "source": [
    "img=cv2.imread(\"tam_ex.jpg\")\n",
    "\n",
    "cv2.imshow(\"tamil\",img)\n",
    "cv2.waitKey(0)\n",
    "cv2.destroyAllWindows()\n"
   ]
  },
  {
   "cell_type": "code",
   "execution_count": 4,
   "metadata": {},
   "outputs": [],
   "source": [
    "def gray(img):\n",
    "    \n",
    "    img = cv2.cvtColor(img, cv2.COLOR_BGR2GRAY)\n",
    "    return img\n",
    "\n",
    "# blur\n",
    "def blur(img) :\n",
    "    img_blur = cv2.GaussianBlur(img,(5,5),0)\n",
    "    return img_blur\n",
    "\n",
    "# threshold\n",
    "def threshold(img,bla=100,whi=255):\n",
    "    #pixels with value below 100 are turned black (0) and those with higher value are turned white (255)\n",
    "    img = cv2.threshold(img, bla, whi, cv2.THRESH_OTSU | cv2.THRESH_BINARY)[1]    \n",
    "    return img"
   ]
  },
  {
   "cell_type": "code",
   "execution_count": 5,
   "metadata": {},
   "outputs": [],
   "source": [
    "def image_resize(image, width = None, height = None, inter = cv2.INTER_AREA):\n",
    "    # initialize the dimensions of the image to be resized and\n",
    "    # grab the image size\n",
    "    dim = None\n",
    "    (h, w) = image.shape[:2]\n",
    "\n",
    "    # if both the width and height are None, then return the\n",
    "    # original image\n",
    "    if width is None and height is None:\n",
    "        return image\n",
    "\n",
    "    # check to see if the width is None\n",
    "    if width is None:\n",
    "        # calculate the ratio of the height and construct the\n",
    "        # dimensions\n",
    "        r = height / float(h)\n",
    "        dim = (int(w * r), height)\n",
    "\n",
    "    # otherwise, the height is None\n",
    "    else:\n",
    "        # calculate the ratio of the width and construct the\n",
    "        # dimensions\n",
    "        r = width / float(w)\n",
    "        dim = (width, int(h * r))\n",
    "\n",
    "    # resize the image\n",
    "    resized = cv2.resize(image, dim, interpolation = inter)\n",
    "\n",
    "    # return the resized image\n",
    "    return resized"
   ]
  },
  {
   "cell_type": "code",
   "execution_count": 6,
   "metadata": {},
   "outputs": [],
   "source": [
    "#res=image_resize(img,1000,1000)\n",
    "gray=gray(img)\n",
    "#blur=blur(gray)\n",
    "threshold=threshold(gray)"
   ]
  },
  {
   "cell_type": "code",
   "execution_count": 7,
   "metadata": {},
   "outputs": [],
   "source": [
    "cv2.imshow(\"tamil\",threshold)\n",
    "cv2.waitKey(0)\n",
    "cv2.destroyAllWindows()\n"
   ]
  },
  {
   "cell_type": "code",
   "execution_count": 8,
   "metadata": {},
   "outputs": [
    {
     "name": "stdout",
     "output_type": "stream",
     "text": [
      "22 கர்ம ரஹஸ்யம்‌\n",
      "\n",
      "வேதிக்கல்லுக்கு முக்கியப்‌ பங்கு இருந்தது. ஆனால்‌ வலிமை,\n",
      "கூர்மை, தோற்றம்‌ - இவற்றில்‌ வாளின்‌ தன்மைக்கு முக்கியப்‌\n",
      "பங்கு இருந்தது. எனவே, எவர்கள்‌ தங்களுடைய சுபாவத்தை\n",
      "முழு அளவுத்‌ தூய்மை ஆக்கிக்‌ கொண்டு விடுகிறார்களோ,\n",
      "அவர்களின்‌ கர்மாக்களும்‌ முழுமையாக சுத்தமாய்‌ இருக்கின்றன.\n",
      "சுபாவம்‌ சுத்தமானாலும்‌ வர்ணம்‌, ஆசிரமம்‌, சம்பிரதாயம்‌,\n",
      "சாதனை முறை, நம்பிக்கைகள்‌ - இவற்றின்‌ காரணமாக\n",
      "செய்கைகளில்‌ மாறுபாடு காணப்படும்‌. எடுத்துக்காட்டாக, ஒரு\n",
      "பிராமணன்‌ உண்மை தத்துவத்தைப்‌ புரிந்து கொண்ட பிறகு,\n",
      "உணவு, நீர்‌ முதலியவைகளில்‌ பவித்திரத்‌ தன்மையைக்‌ காக்க\n",
      "முயல்வான்‌. தன்‌ கையாலேயே உணவு செய்து அருந்துவான்‌.\n",
      "ஆனால்‌, ஒரு ஹரிஜனனுக்கோ அல்லது சாதாரண\n",
      "வர்ணத்தானுக்கோ தத்துவ போதம்‌ ஏற்பட்டாலும்‌, அவன்‌\n",
      "உணவு முதலியவற்றின்‌ சுத்தத்தைப்‌ பார்க்க மாட்டான்‌. பிறர்‌\n",
      "எச்சிலையும்கூட உண்பான்‌. ஏனென்றால்‌, அவனுடைய\n",
      "சுபாவம்‌ அப்படி அமைந்துவிட்டது. ஆனால்‌, அந்தச்‌ சுபாவம்‌\n",
      "அவனுக்கு குறை உள்ளதாக இராது,\n",
      "\n",
      "இந்த ஜீவனுக்கு 'அஸத்துடன்‌' (பொய்ப்‌ பொருள்களுடன்‌)\n",
      "சம்பந்தம்‌ ஏற்படுத்திக்‌ கொள்ளும்‌ சுபாவம்‌ அநாதி\n",
      "காலமாகவே இருந்து வருகிறது. அதனால்தான்‌ அவன்‌\n",
      "பிறப்பிறப்பு வட்டத்தில்‌ சிக்கிக்‌ கொண்டு, மாறி மாறி\n",
      "உயர்ந்த-தாழ்ந்த யோனிகளில்‌ பிறக்கிறான்‌. அஸத்துடன்‌\n",
      "சம்பந்தம்‌ ஏற்படுத்திக்‌ கொள்ளும்‌ சுபாவத்தை அவன்‌\n",
      "சுத்தமாக்கிகி கொள்ள முடியும்‌. அதாவது காமனா, மமதா,\n",
      "தாதாத்மியம்‌. (இச்சைகள்‌, தனதென்னும்‌ எண்ணம்‌,\n",
      "பிரகிருதியிடம்‌ ஈடுபாடு) என்ற மூன்றையும்‌ அழித்துவிட்டால்‌\n",
      "சுபாவம்‌ சுத்தமாகிவிடும்‌. அப்படி அவற்றிலிருந்து நீங்கிய\n",
      "சுபாவம்‌ குற்றமுள்ளதாக இராது. அந்தச்‌ சுபாவத்தை அழிக்க\n",
      "வேண்டுவதில்லை.\n",
      "\n",
      "மனிதன்‌ அகங்காரத்தின்‌ பிடியை விட்டுவிட்டு,\n",
      "முழுமையாக பகவானைச்‌ சரணடைந்துவிட்டால்‌, அவன்‌\n"
     ]
    }
   ],
   "source": [
    "text1=pytesseract.image_to_string(threshold,lang=\"tam\")\n",
    "print(text1)"
   ]
  },
  {
   "cell_type": "code",
   "execution_count": 11,
   "metadata": {},
   "outputs": [],
   "source": [
    "# boxes = pytesseract.image_to_data(gray)\n",
    "# for a,b in enumerate(boxes.splitlines()):\n",
    "#     if a!=0:\n",
    "#         b = b.split()\n",
    "#         if len(b)==12:\n",
    "#             x,y,w,h = int(b[6]),int(b[7]),int(b[8]),int(b[9])\n",
    "#             cv2.putText(img,b[11],(x,y-5),cv2.FONT_HERSHEY_SIMPLEX,1,(50,50,255),2)\n",
    "#             cv2.rectangle(img, (x,y), (x+w, y+h), (50, 50, 255), 2)"
   ]
  },
  {
   "cell_type": "code",
   "execution_count": 12,
   "metadata": {},
   "outputs": [],
   "source": [
    "# cv2.imshow(\"poster\",img)\n",
    "# cv2.waitKey(0)\n",
    "# cv2.destroyAllWindows()\n"
   ]
  },
  {
   "cell_type": "code",
   "execution_count": null,
   "metadata": {},
   "outputs": [],
   "source": []
  }
 ],
 "metadata": {
  "kernelspec": {
   "display_name": "Python 3",
   "language": "python",
   "name": "python3"
  },
  "language_info": {
   "codemirror_mode": {
    "name": "ipython",
    "version": 3
   },
   "file_extension": ".py",
   "mimetype": "text/x-python",
   "name": "python",
   "nbconvert_exporter": "python",
   "pygments_lexer": "ipython3",
   "version": "3.7.4"
  }
 },
 "nbformat": 4,
 "nbformat_minor": 2
}
